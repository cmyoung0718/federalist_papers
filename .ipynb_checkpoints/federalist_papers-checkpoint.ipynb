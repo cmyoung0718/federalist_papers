{
 "cells": [
  {
   "cell_type": "markdown",
   "metadata": {},
   "source": [
    "# Using Classification to Determine Authorship\n",
    "I read about the idea of using machine learning to determine the true author of the disputed Federalist Papers, so I wanted to go ahead and give it a try!"
   ]
  },
  {
   "cell_type": "code",
   "execution_count": 1,
   "metadata": {
    "collapsed": false
   },
   "outputs": [],
   "source": [
    "import urllib2\n",
    "from bs4 import BeautifulSoup\n",
    "import requests\n",
    "import pandas as pd\n",
    "import numpy as np\n",
    "from sklearn.model_selection import train_test_split\n",
    "from sklearn.preprocessing import LabelEncoder\n",
    "from sklearn.feature_extraction.text import TfidfVectorizer, CountVectorizer\n",
    "from sklearn.manifold import TSNE\n",
    "from sklearn.metrics import classification_report, confusion_matrix\n",
    "from sklearn.svm import SVC\n",
    "import matplotlib.pyplot as plt\n",
    "from mpl_toolkits.mplot3d import Axes3D\n",
    "from sklearn.linear_model import LogisticRegression\n",
    "%matplotlib inline"
   ]
  },
  {
   "cell_type": "code",
   "execution_count": 2,
   "metadata": {
    "collapsed": false
   },
   "outputs": [],
   "source": [
    "url = 'http://www.let.rug.nl/usa/documents/1786-1800/the-federalist-papers/'\n",
    "req = urllib2.Request(url, headers={'User-Agent' : \"Magic Browser\"}) \n",
    "soup = BeautifulSoup(urllib2.urlopen(req), 'lxml')\n",
    "content = soup.find('div', {'id':'content'})\n",
    "links = content.find_all('a')"
   ]
  },
  {
   "cell_type": "code",
   "execution_count": 3,
   "metadata": {
    "collapsed": false
   },
   "outputs": [
    {
     "name": "stdout",
     "output_type": "stream",
     "text": [
      "['introduction.php', 'the-federalist-1.php', 'the-federalist-2.php', 'the-federalist-3.php', 'the-federalist-4.php']\n"
     ]
    }
   ],
   "source": [
    "partial_urls = []\n",
    "for i in links:\n",
    "    partial_urls.append(i['href'])\n",
    "print partial_urls[:5]"
   ]
  },
  {
   "cell_type": "code",
   "execution_count": 4,
   "metadata": {
    "collapsed": true
   },
   "outputs": [],
   "source": [
    "number = []\n",
    "content_ = []\n",
    "count = 0\n",
    "for i in partial_urls:\n",
    "    url = 'http://www.let.rug.nl/usa/documents/1786-1800/the-federalist-papers/' + i\n",
    "    req = urllib2.Request(url, headers={'User-Agent' : \"Magic Browser\"}) \n",
    "    soup = BeautifulSoup(urllib2.urlopen(req), 'lxml')\n",
    "    number.append(count)\n",
    "    content_.append(soup)\n",
    "    count += 1"
   ]
  },
  {
   "cell_type": "code",
   "execution_count": 5,
   "metadata": {
    "collapsed": false
   },
   "outputs": [
    {
     "data": {
      "text/plain": [
       "[82, 83, 84, 85, 86]"
      ]
     },
     "execution_count": 5,
     "metadata": {},
     "output_type": "execute_result"
    }
   ],
   "source": [
    "number[-5:]"
   ]
  },
  {
   "cell_type": "code",
   "execution_count": 6,
   "metadata": {
    "collapsed": false
   },
   "outputs": [
    {
     "data": {
      "text/plain": [
       "u\" The Federalist 5    The Same Subject Continued  (Concerning Dangers From Foreign Force and Influence)  Jay for the Independent Journal.    To the People of the State of New York:  QUEEN ANNE, in her letter of the 1st July, 1706, to the Scotch   Parliament, makes some observations on the importance of the UNION   then forming between England and Scotland, which merit our attention.   I shall present the public with one or two extracts from it: ``An   entire and perfect union will be the solid foundation of lasting   peace: It will secure your religion, liberty, and property; remove   the animosities amongst yourselves, and the jealousies and   differences betwixt our two kingdoms. It must increase your   strength, riches, and trade; and by this union the whole island,   being joined in affection and free from all apprehensions of   different interest, will be enabled to resist all its enemies.''   ``We most earnestly recommend to you calmness and unanimity in this   great and weighty a\""
      ]
     },
     "execution_count": 6,
     "metadata": {},
     "output_type": "execute_result"
    }
   ],
   "source": [
    "# Looking at how to pull in the text I want for features\n",
    "\n",
    "content_[5].find('div', {'id':'content'}).text.replace('\\n', ' ').replace('\\r', '').replace('\\\\', '')[:1000]"
   ]
  },
  {
   "cell_type": "code",
   "execution_count": 7,
   "metadata": {
    "collapsed": false
   },
   "outputs": [],
   "source": [
    "# Get the titles\n",
    "titles = []\n",
    "for i in content_:\n",
    "    titles.append(i.find('div', {'id':'content'}).find('h1').text.replace('The Federalist ', '').replace('70a','70').replace('70b','70'))"
   ]
  },
  {
   "cell_type": "code",
   "execution_count": 8,
   "metadata": {
    "collapsed": false
   },
   "outputs": [],
   "source": [
    "text_stuff = []\n",
    "flag = False\n",
    "for i in content_[5]:\n",
    "    if flag == False:\n",
    "        if '<p>' in i:\n",
    "            flag = True\n",
    "        else:\n",
    "            continue\n",
    "    text_stuff.append(i)"
   ]
  },
  {
   "cell_type": "code",
   "execution_count": 9,
   "metadata": {
    "collapsed": false
   },
   "outputs": [],
   "source": [
    "# The if clause is because of inconsistencies in the site the text was scraped from\n",
    "\n",
    "rough_text = []\n",
    "for i in number:\n",
    "    if i == 40 or i == 27 or i == 44:\n",
    "        rough_text.append(content_[i].find_all('p'))\n",
    "    else:\n",
    "        rough_text.append(content_[i].find_all('p')[1:])"
   ]
  },
  {
   "cell_type": "code",
   "execution_count": 10,
   "metadata": {
    "collapsed": false
   },
   "outputs": [],
   "source": [
    "text = []\n",
    "for i in rough_text:\n",
    "    pars = []\n",
    "    for j in i:\n",
    "        pars.append(j.text.replace('\\n', ' ').replace('\\r', '').replace('\\\\', ''))\n",
    "    joined = ' '.join(pars)\n",
    "    text.append(joined)"
   ]
  },
  {
   "cell_type": "code",
   "execution_count": 11,
   "metadata": {
    "collapsed": false
   },
   "outputs": [],
   "source": [
    "texty = []\n",
    "nums = []\n",
    "for idx, i in enumerate(rough_text):\n",
    "    pars = []\n",
    "    for j in i:\n",
    "        if 'Publius.' not in j.text:\n",
    "            texty.append(j.text.replace('\\n', ' ').replace('\\r', '').replace('\\\\', ''))\n",
    "            nums.append(idx)"
   ]
  },
  {
   "cell_type": "code",
   "execution_count": 12,
   "metadata": {
    "collapsed": false
   },
   "outputs": [
    {
     "data": {
      "text/plain": [
       "u\"    The delegates who signed the drafted Constitution in  Philadelphia on September 16, 1787, stipulated that it would  take effect only after approval by ratifying conventions in nine  of 13 states. Although not stipulated, a negative vote by either  of two key states-New York or Virginia-could destroy the  whole enterprise because of their size and power. Both New  York and Virginia delegates were sharply divided in their  opinions of the Constitution. And New York governor George  Clinton had already made clear his opposition.       One would imagine that a work so highly praised and so  influential as The Federalist Papers was the ripe fruit of a long  lifetime's experience in scholarship and government. In fact, it  was largely the product of two young men: Alexander  Hamilton of New York, age 32, and James Madison of Virginia, age  36, who wrote in great haste-sometimes as many as four  essays in a single week. An older scholar, John Jay, later named  as first chief justice of th\""
      ]
     },
     "execution_count": 12,
     "metadata": {},
     "output_type": "execute_result"
    }
   ],
   "source": [
    "# Looking at how the data looks\n",
    "\n",
    "text[0][:1000]"
   ]
  },
  {
   "cell_type": "code",
   "execution_count": 13,
   "metadata": {
    "collapsed": false
   },
   "outputs": [],
   "source": [
    "text_content = pd.DataFrame(texty)\n",
    "essay_no = pd.DataFrame(nums)\n",
    "df = pd.concat([essay_no,text_content], axis=1)\n",
    "df.columns = ['essay_no', 'text']"
   ]
  },
  {
   "cell_type": "code",
   "execution_count": 14,
   "metadata": {
    "collapsed": false
   },
   "outputs": [
    {
     "data": {
      "text/html": [
       "<div>\n",
       "<table border=\"1\" class=\"dataframe\">\n",
       "  <thead>\n",
       "    <tr style=\"text-align: right;\">\n",
       "      <th></th>\n",
       "      <th>essay_no</th>\n",
       "      <th>text</th>\n",
       "    </tr>\n",
       "  </thead>\n",
       "  <tbody>\n",
       "    <tr>\n",
       "      <th>0</th>\n",
       "      <td>1</td>\n",
       "      <td>This idea will add the inducements of philan...</td>\n",
       "    </tr>\n",
       "    <tr>\n",
       "      <th>1</th>\n",
       "      <td>1</td>\n",
       "      <td>Among the most formidable of the obstacles w...</td>\n",
       "    </tr>\n",
       "    <tr>\n",
       "      <th>2</th>\n",
       "      <td>1</td>\n",
       "      <td>It is not, however, my design to dwell upon ...</td>\n",
       "    </tr>\n",
       "    <tr>\n",
       "      <th>3</th>\n",
       "      <td>1</td>\n",
       "      <td>And yet, however just these sentiments wil...</td>\n",
       "    </tr>\n",
       "    <tr>\n",
       "      <th>4</th>\n",
       "      <td>1</td>\n",
       "      <td>In the course of the preceding observations,...</td>\n",
       "    </tr>\n",
       "  </tbody>\n",
       "</table>\n",
       "</div>"
      ],
      "text/plain": [
       "   essay_no                                               text\n",
       "0         1    This idea will add the inducements of philan...\n",
       "1         1    Among the most formidable of the obstacles w...\n",
       "2         1    It is not, however, my design to dwell upon ...\n",
       "3         1      And yet, however just these sentiments wil...\n",
       "4         1    In the course of the preceding observations,..."
      ]
     },
     "execution_count": 14,
     "metadata": {},
     "output_type": "execute_result"
    }
   ],
   "source": [
    "df = df[11:].reset_index().drop('index', axis=1)\n",
    "df.head(5)"
   ]
  },
  {
   "cell_type": "code",
   "execution_count": 15,
   "metadata": {
    "collapsed": false
   },
   "outputs": [
    {
     "name": "stdout",
     "output_type": "stream",
     "text": [
      "0   This idea will add the inducements of philanthropy to those of   patriotism, to heighten the solicitude which all considerate and   good men must feel for the event. Happy will it be if our choice   should be directed by a judicious estimate of our true interests,   unperplexed and unbiased by considerations not connected with the   public good. But this is a thing more ardently to be wished than   seriously to be expected. The plan offered to our deliberations   affects too many particular interests, innovates upon too many local   institutions, not to involve in its discussion a variety of objects   foreign to its merits, and of views, passions and prejudices little   favorable to the discovery of truth.\n",
      "1   Among the most formidable of the obstacles which the new   Constitution will have to encounter may readily be distinguished the   obvious interest of a certain class of men in every State to resist   all changes which may hazard a diminution of the power, emolument,   and consequence of the offices they hold under the State   establishments; and the perverted ambition of another class of men,   who will either hope to aggrandize themselves by the confusions of   their country, or will flatter themselves with fairer prospects of   elevation from the subdivision of the empire into several partial   confederacies than from its union under one government.\n",
      "2   It is not, however, my design to dwell upon observations of this   nature. I am well aware that it would be disingenuous to resolve   indiscriminately the opposition of any set of men (merely because   their situations might subject them to suspicion) into interested or   ambitious views. Candor will oblige us to admit that even such men   may be actuated by upright intentions; and it cannot be doubted   that much of the opposition which has made its appearance, or may   hereafter make its appearance, will spring from sources, blameless   at least, if not respectable--the honest errors of minds led astray   by preconceived jealousies and fears. So numerous indeed and so   powerful are the causes which serve to give a false bias to the   judgment, that we, upon many occasions, see wise and good men on the   wrong as well as on the right side of questions of the first   magnitude to society. This circumstance, if duly attended to, would   furnish a lesson of moderation to those who are ever so much   persuaded of their being in the right in any controversy. And a   further reason for caution, in this respect, might be drawn from the   reflection that we are not always sure that those who advocate the   truth are influenced by purer principles than their antagonists.   Ambition, avarice, personal animosity, party opposition, and many   other motives not more laudable than these, are apt to operate as   well upon those who support as those who oppose the right side of a   question. Were there not even these inducements to moderation,   nothing could be more ill-judged than that intolerant spirit which   has, at all times, characterized political parties. For in   politics, as in religion, it is equally absurd to aim at making   proselytes by fire and sword. Heresies in either can rarely be   cured by persecution.\n"
     ]
    }
   ],
   "source": [
    "# Check to make sure the correct text was obtained\n",
    "for idx,i in enumerate(df['text'][:3]):\n",
    "    print idx,i"
   ]
  },
  {
   "cell_type": "markdown",
   "metadata": {},
   "source": [
    "The consensus among scholars is that\n",
    "Jay wrote five: 2-5 and 64, Madison wrote fourteen:10, 14, 37-48, and Hamilton\n",
    "wrote most of the remainder (fifty-one). Three are thought to be joint (18-20),\n",
    "and the twelve (49-58, 62, 63) comprise the list whose disputed authorship is\n",
    "the source of interest."
   ]
  },
  {
   "cell_type": "code",
   "execution_count": 16,
   "metadata": {
    "collapsed": true
   },
   "outputs": [],
   "source": [
    "author = []\n",
    "for i in df['essay_no']:\n",
    "    if int(i) >= 2 and int(i) <= 5 or int(i) == 64:\n",
    "        author.append('Jay')\n",
    "    elif int(i) == 10 or int(i) == 14 or int(i) >=37 and int(i) <= 48:\n",
    "        author.append('Madison')\n",
    "    elif int(i) >= 18 and int(i) <=20:\n",
    "        author.append('Joint')\n",
    "    elif int(i) >= 49 and int(i) <= 58 or int(i) == 62 or int(i) ==63:\n",
    "        author.append('Disputed')\n",
    "    else:\n",
    "        author.append('Hamilton')"
   ]
  },
  {
   "cell_type": "code",
   "execution_count": 17,
   "metadata": {
    "collapsed": false
   },
   "outputs": [],
   "source": [
    "author = pd.DataFrame(author, columns=['author'])"
   ]
  },
  {
   "cell_type": "code",
   "execution_count": 18,
   "metadata": {
    "collapsed": false
   },
   "outputs": [],
   "source": [
    "df = pd.concat([df, author], axis=1)"
   ]
  },
  {
   "cell_type": "code",
   "execution_count": 19,
   "metadata": {
    "collapsed": false
   },
   "outputs": [],
   "source": [
    "df = df[df['text'] != ' ']"
   ]
  },
  {
   "cell_type": "code",
   "execution_count": 20,
   "metadata": {
    "collapsed": false
   },
   "outputs": [
    {
     "data": {
      "text/plain": [
       "Hamilton    674\n",
       "Madison      90\n",
       "Jay          76\n",
       "Joint        64\n",
       "Disputed     53\n",
       "Name: author, dtype: int64"
      ]
     },
     "execution_count": 20,
     "metadata": {},
     "output_type": "execute_result"
    }
   ],
   "source": [
    "df['author'].value_counts()"
   ]
  },
  {
   "cell_type": "code",
   "execution_count": 21,
   "metadata": {
    "collapsed": false
   },
   "outputs": [],
   "source": [
    "disputed = df[df['author'] == 'Disputed']\n",
    "useful_df = pd.concat([df[df['author']=='Madison'].sample(674, replace=True),df[df['author']=='Hamilton']])"
   ]
  },
  {
   "cell_type": "code",
   "execution_count": 22,
   "metadata": {
    "collapsed": false
   },
   "outputs": [],
   "source": [
    "le = LabelEncoder()\n",
    "\n",
    "\n",
    "X = useful_df['text'].reset_index().drop('index', axis=1)\n",
    "y = pd.DataFrame(le.fit_transform(useful_df['author']), columns=['author'])"
   ]
  },
  {
   "cell_type": "code",
   "execution_count": 23,
   "metadata": {
    "collapsed": false
   },
   "outputs": [
    {
     "data": {
      "text/html": [
       "<div>\n",
       "<table border=\"1\" class=\"dataframe\">\n",
       "  <thead>\n",
       "    <tr style=\"text-align: right;\">\n",
       "      <th></th>\n",
       "      <th>essay_no</th>\n",
       "      <th>text</th>\n",
       "      <th>author</th>\n",
       "    </tr>\n",
       "  </thead>\n",
       "  <tbody>\n",
       "    <tr>\n",
       "      <th>0</th>\n",
       "      <td>1</td>\n",
       "      <td>This idea will add the inducements of philan...</td>\n",
       "      <td>Hamilton</td>\n",
       "    </tr>\n",
       "    <tr>\n",
       "      <th>1</th>\n",
       "      <td>1</td>\n",
       "      <td>Among the most formidable of the obstacles w...</td>\n",
       "      <td>Hamilton</td>\n",
       "    </tr>\n",
       "    <tr>\n",
       "      <th>2</th>\n",
       "      <td>1</td>\n",
       "      <td>It is not, however, my design to dwell upon ...</td>\n",
       "      <td>Hamilton</td>\n",
       "    </tr>\n",
       "    <tr>\n",
       "      <th>3</th>\n",
       "      <td>1</td>\n",
       "      <td>And yet, however just these sentiments wil...</td>\n",
       "      <td>Hamilton</td>\n",
       "    </tr>\n",
       "    <tr>\n",
       "      <th>4</th>\n",
       "      <td>1</td>\n",
       "      <td>In the course of the preceding observations,...</td>\n",
       "      <td>Hamilton</td>\n",
       "    </tr>\n",
       "    <tr>\n",
       "      <th>5</th>\n",
       "      <td>1</td>\n",
       "      <td>I propose, in a series of papers, to discuss...</td>\n",
       "      <td>Hamilton</td>\n",
       "    </tr>\n",
       "    <tr>\n",
       "      <th>6</th>\n",
       "      <td>1</td>\n",
       "      <td>In the progress of this discussion I shall e...</td>\n",
       "      <td>Hamilton</td>\n",
       "    </tr>\n",
       "    <tr>\n",
       "      <th>7</th>\n",
       "      <td>1</td>\n",
       "      <td>It may perhaps be thought superfluous to off...</td>\n",
       "      <td>Hamilton</td>\n",
       "    </tr>\n",
       "    <tr>\n",
       "      <th>8</th>\n",
       "      <td>1</td>\n",
       "      <td>The same idea, tracing the arguments to th...</td>\n",
       "      <td>Hamilton</td>\n",
       "    </tr>\n",
       "    <tr>\n",
       "      <th>9</th>\n",
       "      <td>2</td>\n",
       "      <td>To the People of the State of New York: WHEN...</td>\n",
       "      <td>Jay</td>\n",
       "    </tr>\n",
       "  </tbody>\n",
       "</table>\n",
       "</div>"
      ],
      "text/plain": [
       "   essay_no                                               text    author\n",
       "0         1    This idea will add the inducements of philan...  Hamilton\n",
       "1         1    Among the most formidable of the obstacles w...  Hamilton\n",
       "2         1    It is not, however, my design to dwell upon ...  Hamilton\n",
       "3         1      And yet, however just these sentiments wil...  Hamilton\n",
       "4         1    In the course of the preceding observations,...  Hamilton\n",
       "5         1    I propose, in a series of papers, to discuss...  Hamilton\n",
       "6         1    In the progress of this discussion I shall e...  Hamilton\n",
       "7         1    It may perhaps be thought superfluous to off...  Hamilton\n",
       "8         1      The same idea, tracing the arguments to th...  Hamilton\n",
       "9         2    To the People of the State of New York: WHEN...       Jay"
      ]
     },
     "execution_count": 23,
     "metadata": {},
     "output_type": "execute_result"
    }
   ],
   "source": [
    "df[:10]"
   ]
  },
  {
   "cell_type": "code",
   "execution_count": 24,
   "metadata": {
    "collapsed": true
   },
   "outputs": [],
   "source": [
    "X_train, X_test, y_train, y_test = train_test_split(X, y, stratify=y, test_size=0.3, random_state=20)"
   ]
  },
  {
   "cell_type": "code",
   "execution_count": 25,
   "metadata": {
    "collapsed": false
   },
   "outputs": [],
   "source": [
    "vec = TfidfVectorizer(min_df=100, max_features=None, strip_accents='unicode',  \n",
    "                      analyzer='word',token_pattern=r'\\w{1,}',ngram_range=(1,3), \n",
    "                      use_idf=1,smooth_idf=1,sublinear_tf=1)\n",
    "vec.fit(X_train['text'])\n",
    "X_train_mat = pd.DataFrame(vec.transform(X_train['text']).todense(), columns=vec.get_feature_names())\n",
    "X_test_mat = pd.DataFrame(vec.transform(X_test['text']).todense(), columns=vec.get_feature_names())"
   ]
  },
  {
   "cell_type": "code",
   "execution_count": 26,
   "metadata": {
    "collapsed": false
   },
   "outputs": [
    {
     "data": {
      "text/html": [
       "<div>\n",
       "<table border=\"1\" class=\"dataframe\">\n",
       "  <thead>\n",
       "    <tr style=\"text-align: right;\">\n",
       "      <th></th>\n",
       "      <th>a</th>\n",
       "      <th>against</th>\n",
       "      <th>against the</th>\n",
       "      <th>all</th>\n",
       "      <th>all the</th>\n",
       "      <th>alone</th>\n",
       "      <th>also</th>\n",
       "      <th>america</th>\n",
       "      <th>among</th>\n",
       "      <th>an</th>\n",
       "      <th>...</th>\n",
       "      <th>will not</th>\n",
       "      <th>with</th>\n",
       "      <th>with a</th>\n",
       "      <th>with the</th>\n",
       "      <th>within</th>\n",
       "      <th>without</th>\n",
       "      <th>would</th>\n",
       "      <th>would be</th>\n",
       "      <th>yet</th>\n",
       "      <th>york</th>\n",
       "    </tr>\n",
       "  </thead>\n",
       "  <tbody>\n",
       "    <tr>\n",
       "      <th>0</th>\n",
       "      <td>0.041388</td>\n",
       "      <td>0.089141</td>\n",
       "      <td>0.000000</td>\n",
       "      <td>0.067662</td>\n",
       "      <td>0.000000</td>\n",
       "      <td>0.00000</td>\n",
       "      <td>0.000000</td>\n",
       "      <td>0.000000</td>\n",
       "      <td>0.104429</td>\n",
       "      <td>0.059670</td>\n",
       "      <td>...</td>\n",
       "      <td>0.00000</td>\n",
       "      <td>0.058579</td>\n",
       "      <td>0.0</td>\n",
       "      <td>0.0000</td>\n",
       "      <td>0.110907</td>\n",
       "      <td>0.000000</td>\n",
       "      <td>0.000000</td>\n",
       "      <td>0.000000</td>\n",
       "      <td>0.0</td>\n",
       "      <td>0.101226</td>\n",
       "    </tr>\n",
       "    <tr>\n",
       "      <th>1</th>\n",
       "      <td>0.000000</td>\n",
       "      <td>0.000000</td>\n",
       "      <td>0.000000</td>\n",
       "      <td>0.000000</td>\n",
       "      <td>0.000000</td>\n",
       "      <td>0.00000</td>\n",
       "      <td>0.000000</td>\n",
       "      <td>0.000000</td>\n",
       "      <td>0.000000</td>\n",
       "      <td>0.000000</td>\n",
       "      <td>...</td>\n",
       "      <td>0.00000</td>\n",
       "      <td>0.000000</td>\n",
       "      <td>0.0</td>\n",
       "      <td>0.0000</td>\n",
       "      <td>0.000000</td>\n",
       "      <td>0.000000</td>\n",
       "      <td>0.000000</td>\n",
       "      <td>0.000000</td>\n",
       "      <td>0.0</td>\n",
       "      <td>0.000000</td>\n",
       "    </tr>\n",
       "    <tr>\n",
       "      <th>2</th>\n",
       "      <td>0.055740</td>\n",
       "      <td>0.060469</td>\n",
       "      <td>0.060388</td>\n",
       "      <td>0.050190</td>\n",
       "      <td>0.026775</td>\n",
       "      <td>0.06809</td>\n",
       "      <td>0.030685</td>\n",
       "      <td>0.032445</td>\n",
       "      <td>0.029686</td>\n",
       "      <td>0.054232</td>\n",
       "      <td>...</td>\n",
       "      <td>0.07441</td>\n",
       "      <td>0.064782</td>\n",
       "      <td>0.0</td>\n",
       "      <td>0.0826</td>\n",
       "      <td>0.031527</td>\n",
       "      <td>0.027283</td>\n",
       "      <td>0.081548</td>\n",
       "      <td>0.088414</td>\n",
       "      <td>0.0</td>\n",
       "      <td>0.028775</td>\n",
       "    </tr>\n",
       "  </tbody>\n",
       "</table>\n",
       "<p>3 rows × 367 columns</p>\n",
       "</div>"
      ],
      "text/plain": [
       "          a   against  against the       all   all the    alone      also  \\\n",
       "0  0.041388  0.089141     0.000000  0.067662  0.000000  0.00000  0.000000   \n",
       "1  0.000000  0.000000     0.000000  0.000000  0.000000  0.00000  0.000000   \n",
       "2  0.055740  0.060469     0.060388  0.050190  0.026775  0.06809  0.030685   \n",
       "\n",
       "    america     among        an    ...     will not      with  with a  \\\n",
       "0  0.000000  0.104429  0.059670    ...      0.00000  0.058579     0.0   \n",
       "1  0.000000  0.000000  0.000000    ...      0.00000  0.000000     0.0   \n",
       "2  0.032445  0.029686  0.054232    ...      0.07441  0.064782     0.0   \n",
       "\n",
       "   with the    within   without     would  would be  yet      york  \n",
       "0    0.0000  0.110907  0.000000  0.000000  0.000000  0.0  0.101226  \n",
       "1    0.0000  0.000000  0.000000  0.000000  0.000000  0.0  0.000000  \n",
       "2    0.0826  0.031527  0.027283  0.081548  0.088414  0.0  0.028775  \n",
       "\n",
       "[3 rows x 367 columns]"
      ]
     },
     "execution_count": 26,
     "metadata": {},
     "output_type": "execute_result"
    }
   ],
   "source": [
    "X_train_mat.head(3)"
   ]
  },
  {
   "cell_type": "code",
   "execution_count": 27,
   "metadata": {
    "collapsed": false
   },
   "outputs": [
    {
     "data": {
      "image/png": "[encoded data removed]",
      "text/plain": [
       "<matplotlib.figure.Figure at 0x11be4d050>"
      ]
     },
     "metadata": {},
     "output_type": "display_data"
    }
   ],
   "source": [
    "tsne = TSNE(n_components=3)\n",
    "exploring_table = pd.DataFrame(tsne.fit_transform(X_train_mat),columns=['comp1', 'comp2', 'comp3'])\n",
    "exploring_table = pd.concat([exploring_table,y_train.reset_index()], axis=1)\n",
    "fig = plt.figure()\n",
    "ax = fig.add_subplot(111, projection='3d')\n",
    "ax.scatter(exploring_table['comp1'], exploring_table['comp2'], exploring_table['comp3'], cmap='Set1', c=exploring_table['author'])\n",
    "plt.show()"
   ]
  },
  {
   "cell_type": "code",
   "execution_count": 28,
   "metadata": {
    "collapsed": false
   },
   "outputs": [
    {
     "data": {
      "image/png": "[encoded data removed]",
      "text/plain": [
       "<matplotlib.figure.Figure at 0x103f21a90>"
      ]
     },
     "metadata": {},
     "output_type": "display_data"
    }
   ],
   "source": [
    "tsne = TSNE(n_components=2)\n",
    "exploring_table = pd.DataFrame(tsne.fit_transform(X_train_mat),columns=['comp1', 'comp2'])\n",
    "exploring_table = pd.concat([exploring_table,y_train.reset_index()], axis=1)\n",
    "fig = plt.figure()\n",
    "plt.scatter(exploring_table['comp1'], exploring_table['comp2'], cmap='Set1', c=exploring_table['author'])\n",
    "plt.show()"
   ]
  },
  {
   "cell_type": "code",
   "execution_count": 29,
   "metadata": {
    "collapsed": false
   },
   "outputs": [],
   "source": [
    "disputed_essays = disputed.groupby(by='essay_no').sum()"
   ]
  },
  {
   "cell_type": "code",
   "execution_count": 30,
   "metadata": {
    "collapsed": false
   },
   "outputs": [],
   "source": [
    "disputed_X = pd.DataFrame(vec.transform(disputed_essays['text']).todense(), columns=vec.get_feature_names())"
   ]
  },
  {
   "cell_type": "code",
   "execution_count": 31,
   "metadata": {
    "collapsed": false
   },
   "outputs": [
    {
     "data": {
      "text/plain": [
       "0.95061728395061729"
      ]
     },
     "execution_count": 31,
     "metadata": {},
     "output_type": "execute_result"
    }
   ],
   "source": [
    "svc = SVC(C=100)\n",
    "svc.fit(X_train_mat, y_train['author'])\n",
    "y_pred = svc.predict(X_test_mat)\n",
    "svc.score(X_test_mat, y_test)"
   ]
  },
  {
   "cell_type": "code",
   "execution_count": 32,
   "metadata": {
    "collapsed": false,
    "scrolled": true
   },
   "outputs": [
    {
     "name": "stdout",
     "output_type": "stream",
     "text": [
      "             precision    recall  f1-score   support\n",
      "\n",
      "          0       0.95      0.95      0.95       202\n",
      "          1       0.95      0.96      0.95       203\n",
      "\n",
      "avg / total       0.95      0.95      0.95       405\n",
      "\n"
     ]
    },
    {
     "data": {
      "text/plain": [
       "array([[191,  11],\n",
       "       [  9, 194]])"
      ]
     },
     "execution_count": 32,
     "metadata": {},
     "output_type": "execute_result"
    }
   ],
   "source": [
    "print classification_report(y_test,y_pred)\n",
    "confusion_matrix(y_test,y_pred)"
   ]
  },
  {
   "cell_type": "code",
   "execution_count": 33,
   "metadata": {
    "collapsed": false
   },
   "outputs": [
    {
     "name": "stdout",
     "output_type": "stream",
     "text": [
      "1    11\n",
      "0     1\n",
      "dtype: int64\n",
      "1 is Madison\n",
      "0 is Hamilton\n"
     ]
    }
   ],
   "source": [
    "print pd.Series(svc.predict(disputed_X)).value_counts()\n",
    "\n",
    "\n",
    "print '1 is', le.inverse_transform(y[y['author']==1])[0][0]\n",
    "print '0 is', le.inverse_transform(y[y['author']==0])[0][0]"
   ]
  },
  {
   "cell_type": "markdown",
   "metadata": {},
   "source": [
    "# Success!\n",
    "The results of my analysis agree with past results that Madison wrote the 12 disputed essays of the Federalist Papers."
   ]
  },
  {
   "cell_type": "code",
   "execution_count": null,
   "metadata": {
    "collapsed": true
   },
   "outputs": [],
   "source": []
  }
 ],
 "metadata": {
  "anaconda-cloud": {},
  "kernelspec": {
   "display_name": "Python [Root]",
   "language": "python",
   "name": "Python [Root]"
  },
  "language_info": {
   "codemirror_mode": {
    "name": "ipython",
    "version": 2
   },
   "file_extension": ".py",
   "mimetype": "text/x-python",
   "name": "python",
   "nbconvert_exporter": "python",
   "pygments_lexer": "ipython2",
   "version": "2.7.12"
  }
 },
 "nbformat": 4,
 "nbformat_minor": 0
}
