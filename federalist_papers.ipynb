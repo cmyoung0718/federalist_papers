{
 "cells": [
  {
   "cell_type": "markdown",
   "metadata": {},
   "source": [
    "# Using Classification to Determine Authorship\n",
    "I read about the idea of using machine learning to determine the true author of the disputed Federalist Papers, so I wanted to go ahead and give it a try!"
   ]
  },
  {
   "cell_type": "code",
   "execution_count": 68,
   "metadata": {
    "collapsed": true
   },
   "outputs": [],
   "source": [
    "import urllib2\n",
    "from bs4 import BeautifulSoup\n",
    "import requests\n",
    "import pandas as pd"
   ]
  },
  {
   "cell_type": "code",
   "execution_count": 19,
   "metadata": {
    "collapsed": false
   },
   "outputs": [],
   "source": [
    "url = 'http://www.let.rug.nl/usa/documents/1786-1800/the-federalist-papers/'\n",
    "req = urllib2.Request(url, headers={'User-Agent' : \"Magic Browser\"}) \n",
    "soup = BeautifulSoup(urllib2.urlopen(req), 'lxml')\n",
    "content = soup.find('div', {'id':'content'})\n",
    "links = content.find_all('a')"
   ]
  },
  {
   "cell_type": "code",
   "execution_count": 27,
   "metadata": {
    "collapsed": false
   },
   "outputs": [
    {
     "name": "stdout",
     "output_type": "stream",
     "text": [
      "['introduction.php', 'the-federalist-1.php', 'the-federalist-2.php', 'the-federalist-3.php', 'the-federalist-4.php']\n"
     ]
    }
   ],
   "source": [
    "partial_urls = []\n",
    "for i in links:\n",
    "    partial_urls.append(i['href'])\n",
    "print partial_urls[:5]"
   ]
  },
  {
   "cell_type": "code",
   "execution_count": 35,
   "metadata": {
    "collapsed": true
   },
   "outputs": [],
   "source": [
    "number = []\n",
    "content_ = []\n",
    "count = 0\n",
    "for i in partial_urls:\n",
    "    url = 'http://www.let.rug.nl/usa/documents/1786-1800/the-federalist-papers/' + i\n",
    "    req = urllib2.Request(url, headers={'User-Agent' : \"Magic Browser\"}) \n",
    "    soup = BeautifulSoup(urllib2.urlopen(req), 'lxml')\n",
    "    number.append(count)\n",
    "    content_.append(soup)\n",
    "    count += 1"
   ]
  },
  {
   "cell_type": "code",
   "execution_count": 36,
   "metadata": {
    "collapsed": false
   },
   "outputs": [
    {
     "data": {
      "text/plain": [
       "[82, 83, 84, 85, 86]"
      ]
     },
     "execution_count": 36,
     "metadata": {},
     "output_type": "execute_result"
    }
   ],
   "source": [
    "number[-5:]"
   ]
  },
  {
   "cell_type": "code",
   "execution_count": 65,
   "metadata": {
    "collapsed": false
   },
   "outputs": [
    {
     "data": {
      "text/plain": [
       "u\" The Federalist 5    The Same Subject Continued  (Concerning Dangers From Foreign Force and Influence)  Jay for the Independent Journal.    To the People of the State of New York:  QUEEN ANNE, in her letter of the 1st July, 1706, to the Scotch   Parliament, makes some observations on the importance of the UNION   then forming between England and Scotland, which merit our attention.   I shall present the public with one or two extracts from it: ``An   entire and perfect union will be the solid foundation of lasting   peace: It will secure your religion, liberty, and property; remove   the animosities amongst yourselves, and the jealousies and   differences betwixt our two kingdoms. It must increase your   strength, riches, and trade; and by this union the whole island,   being joined in affection and free from all apprehensions of   different interest, will be enabled to resist all its enemies.''   ``We most earnestly recommend to you calmness and unanimity in this   great and weighty affair, that the union may be brought to a happy   conclusion, being the only effectual way to secure our present and   future happiness, and disappoint the designs of our and your   enemies, who will doubtless, on this occasion, use their utmost   endeavors to prevent or delay this union.''  It was remarked in the preceding paper, that weakness and   divisions at home would invite dangers from abroad; and that   nothing would tend more to secure us from them than union, strength,   and good government within ourselves. This subject is copious and   cannot easily be exhausted.  The history of Great Britain is the one with which we are in   general the best acquainted, and it gives us many useful lessons.   We may profit by their experience without paying the price which it   cost them. Although it seems obvious to common sense that the   people of such an island should be but one nation, yet we find that   they were for ages divided into three, and that those three were   almost constantly embroiled in quarrels and wars with one another.   Notwithstanding their true interest with respect to the continental   nations was really the same, yet by the arts and policy and   practices of those nations, their mutual jealousies were perpetually   kept inflamed, and for a long series of years they were far more   inconvenient and troublesome than they were useful and assisting to   each other.  Should the people of America divide themselves into three or   four nations, would not the same thing happen? Would not similar   jealousies arise, and be in like manner cherished? Instead of their   being ``joined in affection'' and free from all apprehension of   different ``interests,'' envy and jealousy would soon extinguish   confidence and affection, and the partial interests of each   confederacy, instead of the general interests of all America, would   be the only objects of their policy and pursuits. Hence, like most   other bordering nations, they would always be either involved in   disputes and war, or live in the constant apprehension of them.  The most sanguine advocates for three or four confederacies   cannot reasonably suppose that they would long remain exactly on an   equal footing in point of strength, even if it was possible to form   them so at first; but, admitting that to be practicable, yet what   human contrivance can secure the continuance of such equality?   Independent of those local circumstances which tend to beget and   increase power in one part and to impede its progress in another, we   must advert to the effects of that superior policy and good   management which would probably distinguish the government of one   above the rest, and by which their relative equality in strength and   consideration would be destroyed. For it cannot be presumed that   the same degree of sound policy, prudence, and foresight would   uniformly be observed by each of these confederacies for a long   succession of years.  Whenever, and from whatever causes, it might happen, and happen   it would, that any one of these nations or confederacies should rise   on the scale of political importance much above the degree of her   neighbors, that moment would those neighbors behold her with envy   and with fear. Both those passions would lead them to countenance,   if not to promote, whatever might promise to diminish her   importance; and would also restrain them from measures calculated   to advance or even to secure her prosperity. Much time would not be   necessary to enable her to discern these unfriendly dispositions.   She would soon begin, not only to lose confidence in her neighbors,   but also to feel a disposition equally unfavorable to them.   Distrust naturally creates distrust, and by nothing is good-will   and kind conduct more speedily changed than by invidious jealousies   and uncandid imputations, whether expressed or implied.  The North is generally the region of strength, and many local   circumstances render it probable that the most Northern of the   proposed confederacies would, at a period not very distant, be   unquestionably more formidable than any of the others. No sooner   would this become evident than the northern hive would excite the   same ideas and sensations in the more southern parts of America   which it formerly did in the southern parts of Europe. Nor does it   appear to be a rash conjecture that its young swarms might often be   tempted to gather honey in the more blooming fields and milder air   of their luxurious and more delicate neighbors.  They who well consider the history of similar divisions and   confederacies will find abundant reason to apprehend that those in   contemplation would in no other sense be neighbors than as they   would be borderers; that they would neither love nor trust one   another, but on the contrary would be a prey to discord, jealousy,   and mutual injuries; in short, that they would place us exactly in   the situations in which some nations doubtless wish to see us, viz.,   formidable only to each other.  From these considerations it appears that those gentlemen are   greatly mistaken who suppose that alliances offensive and defensive   might be formed between these confederacies, and would produce that   combination and union of wills of arms and of resources, which would   be necessary to put and keep them in a formidable state of defense   against foreign enemies.  When did the independent states, into which Britain and Spain   were formerly divided, combine in such alliance, or unite their   forces against a foreign enemy? The proposed confederacies will be   distinct nations. Each of them would have its commerce with   foreigners to regulate by distinct treaties; and as their   productions and commodities are different and proper for different   markets, so would those treaties be essentially different.   Different commercial concerns must create different interests, and   of course different degrees of political attachment to and   connection with different foreign nations. Hence it might and   probably would happen that the foreign nation with whom the southern   confederacy might be at war would be the one with whom the northern   confederacy would be the most desirous of preserving peace and   friendship. An alliance so contrary to their immediate interest   would not therefore be easy to form, nor, if formed, would it be   observed and fulfilled with perfect good faith.  Nay, it is far more probable that in America, as in Europe,   neighboring nations, acting under the impulse of opposite interests   and unfriendly passions, would frequently be found taking different   sides. Considering our distance from Europe, it would be more   natural for these confederacies to apprehend danger from one another   than from distant nations, and therefore that each of them should be   more desirous to guard against the others by the aid of foreign   alliances, than to guard against foreign dangers by alliances   between themselves. And here let us not forget how much more easy   it is to receive foreign fleets into our ports, and foreign armies   into our country, than it is to persuade or compel them to depart.   How many conquests did the Romans and others make in the characters   of allies, and what innovations did they under the same character   introduce into the governments of those whom they pretended to   protect.  Let candid men judge, then, whether the division of America into   any given number of independent sovereignties would tend to secure   us against the hostilities and improper interference of foreign   nations. Publius.   <previous - next> <previous - next> \""
      ]
     },
     "execution_count": 65,
     "metadata": {},
     "output_type": "execute_result"
    }
   ],
   "source": [
    "# Looking at how to pull in the text I want for features\n",
    "\n",
    "content_[5].find('div', {'id':'content'}).text.replace('\\n', ' ').replace('\\r', '').replace('\\\\', '')"
   ]
  },
  {
   "cell_type": "code",
   "execution_count": 171,
   "metadata": {
    "collapsed": false
   },
   "outputs": [],
   "source": [
    "# Get the titles\n",
    "titles = []\n",
    "for i in content_:\n",
    "    titles.append(i.find('div', {'id':'content'}).find('h1').text.replace('The Federalist ', '').replace('70a','70').replace('70b','70'))"
   ]
  },
  {
   "cell_type": "code",
   "execution_count": 76,
   "metadata": {
    "collapsed": false
   },
   "outputs": [],
   "source": [
    "text_stuff = []\n",
    "flag = False\n",
    "for i in content_[5]:\n",
    "    if flag == False:\n",
    "        if '<p>' in i:\n",
    "            flag = True\n",
    "        else:\n",
    "            continue\n",
    "    text_stuff.append(i)"
   ]
  },
  {
   "cell_type": "code",
   "execution_count": 183,
   "metadata": {
    "collapsed": false
   },
   "outputs": [],
   "source": [
    "# The if clause is because of inconsistencies in the site the text was scraped from\n",
    "\n",
    "rough_text = []\n",
    "for i in number:\n",
    "    if i == 40 or i == 27 or i == 44:\n",
    "        rough_text.append(content_[i].find_all('p'))\n",
    "    else:\n",
    "        rough_text.append(content_[i].find_all('p')[1:])"
   ]
  },
  {
   "cell_type": "code",
   "execution_count": 184,
   "metadata": {
    "collapsed": false
   },
   "outputs": [],
   "source": [
    "text = []\n",
    "for i in rough_text:\n",
    "    pars = []\n",
    "    for j in i:\n",
    "        pars.append(j.text.replace('\\n', ' ').replace('\\r', '').replace('\\\\', ''))\n",
    "    joined = ' '.join(pars)\n",
    "    text.append(joined)"
   ]
  },
  {
   "cell_type": "code",
   "execution_count": 185,
   "metadata": {
    "collapsed": false
   },
   "outputs": [
    {
     "data": {
      "text/plain": [
       "u\"    The delegates who signed the drafted Constitution in  Philadelphia on September 16, 1787, stipulated that it would  take effect only after approval by ratifying conventions in nine  of 13 states. Although not stipulated, a negative vote by either  of two key states-New York or Virginia-could destroy the  whole enterprise because of their size and power. Both New  York and Virginia delegates were sharply divided in their  opinions of the Constitution. And New York governor George  Clinton had already made clear his opposition.       One would imagine that a work so highly praised and so  influential as The Federalist Papers was the ripe fruit of a long  lifetime's experience in scholarship and government. In fact, it  was largely the product of two young men: Alexander  Hamilton of New York, age 32, and James Madison of Virginia, age  36, who wrote in great haste-sometimes as many as four  essays in a single week. An older scholar, John Jay, later named  as first chief justice of th\""
      ]
     },
     "execution_count": 185,
     "metadata": {},
     "output_type": "execute_result"
    }
   ],
   "source": [
    "# Looking at how the data looks\n",
    "\n",
    "text[0][:1000]"
   ]
  },
  {
   "cell_type": "code",
   "execution_count": 186,
   "metadata": {
    "collapsed": false
   },
   "outputs": [],
   "source": [
    "text_content = pd.DataFrame(text)\n",
    "essay_no = pd.DataFrame(titles)\n",
    "df = pd.concat([essay_no,text_content], axis=1)\n",
    "df.columns = ['essay_no', 'text']"
   ]
  },
  {
   "cell_type": "code",
   "execution_count": 187,
   "metadata": {
    "collapsed": false
   },
   "outputs": [
    {
     "data": {
      "text/html": [
       "<div>\n",
       "<table border=\"1\" class=\"dataframe\">\n",
       "  <thead>\n",
       "    <tr style=\"text-align: right;\">\n",
       "      <th></th>\n",
       "      <th>essay_no</th>\n",
       "      <th>text</th>\n",
       "    </tr>\n",
       "  </thead>\n",
       "  <tbody>\n",
       "    <tr>\n",
       "      <th>1</th>\n",
       "      <td>1</td>\n",
       "      <td>To the People of the State of New York:  A...</td>\n",
       "    </tr>\n",
       "    <tr>\n",
       "      <th>2</th>\n",
       "      <td>2</td>\n",
       "      <td>To the People of the State of New York: WHEN...</td>\n",
       "    </tr>\n",
       "    <tr>\n",
       "      <th>3</th>\n",
       "      <td>3</td>\n",
       "      <td>To the People of the State of New York:  I...</td>\n",
       "    </tr>\n",
       "    <tr>\n",
       "      <th>4</th>\n",
       "      <td>4</td>\n",
       "      <td>To the People of the State of New York:  MY ...</td>\n",
       "    </tr>\n",
       "    <tr>\n",
       "      <th>5</th>\n",
       "      <td>5</td>\n",
       "      <td>To the People of the State of New York:  QUE...</td>\n",
       "    </tr>\n",
       "  </tbody>\n",
       "</table>\n",
       "</div>"
      ],
      "text/plain": [
       "  essay_no                                               text\n",
       "1        1      To the People of the State of New York:  A...\n",
       "2        2    To the People of the State of New York: WHEN...\n",
       "3        3      To the People of the State of New York:  I...\n",
       "4        4    To the People of the State of New York:  MY ...\n",
       "5        5    To the People of the State of New York:  QUE..."
      ]
     },
     "execution_count": 187,
     "metadata": {},
     "output_type": "execute_result"
    }
   ],
   "source": [
    "df = df[1:]\n",
    "df.head()"
   ]
  },
  {
   "cell_type": "code",
   "execution_count": 188,
   "metadata": {
    "collapsed": false
   },
   "outputs": [
    {
     "name": "stdout",
     "output_type": "stream",
     "text": [
      "0     To the People of the State of New York:  AFTER an unequivocal experience of the inefficiency of \n",
      "1   To the People of the State of New York: WHEN the people of America reflect that they are now calle\n",
      "2     To the People of the State of New York:  IT IS not a new observation that the people of any coun\n",
      "3   To the People of the State of New York:  MY LAST paper assigned several reasons why the safety of \n",
      "4   To the People of the State of New York:  QUEEN ANNE, in her letter of the 1st July, 1706, to the S\n",
      "5   To the People of the State of New York:  THE three last numbers of this paper have been dedicated \n",
      "6     To the People of the State of New York:  IT IS sometimes asked, with an air of seeming triumph, \n",
      "7     To the People of the State of New York:  ASSUMING it therefore as an established truth that the \n",
      "8     To the People of the State of New York:  A FIRM Union will be of the utmost moment to the peace \n",
      "9   To the People of the State of New York:  AMONG the numerous advantages promised by a wellconstruct\n",
      "10   To the People of the State of New York:  THE importance of the Union, in a commercial light, is on\n",
      "11   To the People of the State of New York:  THE effects of Union upon the commercial prosperity of th\n",
      "12   To the People of the State of New York:  As connected with the subject of revenue, we may with pro\n",
      "13   To the People of the State of New York:  WE HAVE seen the necessity of the Union, as our bulwark a\n",
      "14   To the People of the State of New York.  IN THE course of the preceding papers, I have endeavored,\n",
      "15   To the People of the State of New York:  THE tendency of the principle of legislation for States, \n",
      "16   To the People of the State of New York:  AN OBJECTION, of a nature different from that which has b\n",
      "17   To the People of the State of New York:  AMONG the confederacies of antiquity, the most considerab\n",
      "18   To the People of the State of New York:  THE examples of ancient confederacies, cited in my last p\n",
      "19   To the People of the State of New York:  THE United Netherlands are a confederacy of republics, or\n",
      "20   To the People of the State of New York:  HAVING in the three last numbers taken a summary review o\n",
      "21   To the People of the State of New York:  IN ADDITION to the defects already enumerated in the exis\n",
      "22   To the People of the State of New York:  THE necessity of a Constitution, at least equally energet\n",
      "23   To the People of the State of New York:  To THE powers proposed to be conferred upon the federal  \n",
      "24   To the People of the State of New York:  IT MAY perhaps be urged that the objects enumerated in th\n",
      "25   To the People of the State of New York:  IT WAS a thing hardly to be expected that in a popular   \n",
      "26   To the People of the State of New York:  IT HAS been urged, in different shapes, that a Constituti\n",
      "27  To the People of the State of New York: THAT there may happen cases in which the national governmen\n",
      "28   To the People of the State of New York:  THE power of regulating the militia, and of commanding it\n",
      "29   To the People of the State of New York:  IT HAS been already observed that the federal government \n",
      "30   To the People of the State of New York:  IN DISQUISITIONS of every kind, there are certain primary\n",
      "31   To the People of the State of New York:  ALTHOUGH I am of opinion that there would be no real dang\n",
      "32   To the People of the State of New York:  THE residue of the argument against the provisions of the\n",
      "33   To the People of the State of New York:  I FLATTER myself it has been clearly shown in my last num\n",
      "34   To the People of the State of New York:  BEFORE we proceed to examine any other objections to an  \n",
      "35   To the People of the State of New York:  WE HAVE seen that the result of the observations, to whic\n",
      "36   To the People of the State of New York:  IN REVIEWING the defects of the existing Confederation, a\n",
      "37   To the People of the State of New York:  IT IS not a little remarkable that in every case reported\n",
      "38     To the People of the State of New York:  THE last paper having concluded the observations which \n",
      "39     To the People of the State of New York:  THE SECOND point to be examined is, whether the convent\n",
      "40   To the People of the State of New York:  THE Constitution proposed by the convention may be consid\n",
      "41   To the People of the State of New York:  THE SECOND class of powers, lodged in the general governm\n",
      "42       To the People of the State of New York:  THE FOURTH class comprises the following miscellaneou\n",
      "43     To the People of the State of New York:  A FIFTH class of provisions in favor of the federal aut\n",
      "44   To the People of the State of New York:  HAVING shown that no one of the powers transferred to the\n",
      "45     To the People of the State of New York:  RESUMING the subject of the last paper, I proceed to in\n",
      "46     To the People of the State of New York:  HAVING reviewed the general form of the proposed govern\n",
      "47   To the People of the State of New York:  IT WAS shown in the last paper that the political apotheg\n",
      "48      To the People of the State of New York:  THE author of the ``Notes on the State of Virginia,'' \n",
      "49    To the People of the State of New York:  IT MAY be contended, perhaps, that instead of occasional\n",
      "50     To the People of the State of New York:  TO WHAT expedient, then, shall we finally resort, for m\n",
      "51     To the People of the State of New York:  FROM the more general inquiries pursued in the four las\n",
      "52     To the People of the State of New York:  I SHALL here, perhaps, be reminded of a current observa\n",
      "53     To the People of the State of New York:  THE next view which I shall take of the House of Repres\n",
      "54   To the People of the State of New York:  THE number of which the House of Representatives is to co\n",
      "55   To the People of the State of New York:  THE SECOND charge against the House of Representatives is\n",
      "56     To the People of the State of New York:  THE THIRD charge against the House of Representatives i\n",
      "57   To the People of the State of New York:  THE remaining charge against the House of Representatives\n",
      "58     To the People of the State of New York:  THE natural order of the subject leads us to consider, \n",
      "59     To the People of the State of New York:  WE HAVE seen, that an uncontrollable power over the ele\n",
      "60     To the People of the State of New York:  THE more candid opposers of the provision respecting el\n",
      "61   To the People of the State of New York:  HAVING examined the constitution of the House of   Repres\n",
      "62   To the People of the State of New York:  A FIFTH desideratum, illustrating the utility of a senate\n",
      "63     To the People of the State of New York:  IT IS a just and not a new observation, that enemies to\n",
      "64     To the People of the State of New York:  THE remaining powers which the plan of the convention a\n",
      "65     To the People of the State of New York:  A REVIEW of the principal objections that have appeared\n",
      "66     To the People of the State of New York:  THE constitution of the executive department of the pro\n",
      "67     To the People of the State of New York:  THE mode of appointment of the Chief Magistrate of the \n",
      "68     To the People of the State of New York:  I PROCEED now to trace the real characters of the propo\n",
      "69   To the People of the State of New York:  THERE is an idea, which is not without its advocates, tha\n",
      "70   There can be no need, however, to multiply arguments or examples   on this head. A feeble Executiv\n",
      "71     To the People of the State of New York:  DURATION in office has been mentioned as the second req\n",
      "72     To the People of the State of New York:  THE administration of government, in its largest sense,\n",
      "73     To the People of the State of New York:  THE third ingredient towards constituting the vigor of \n",
      "74     To the People of the State of New York:  THE President of the United States is to be ``commander\n",
      "75   To the People of the State of New York:  THE President is to have power, ``by and with the advice \n",
      "76     To the People of the State of New York:  THE President is ``to nominate, and, by and with the ad\n",
      "77     To the People of the State of New York:  IT HAS been mentioned as one of the advantages to be ex\n",
      "78     To the People of the State of New York:  WE PROCEED now to an examination of the judiciary depar\n",
      "79     To the People of the State of New York:  NEXT to permanency in office, nothing can contribute mo\n",
      "80     To the People of the State of New York:  To judge with accuracy of the proper extent of the fede\n",
      "81     To the People of the State of New York:  LET US now return to the partition of the judiciary aut\n",
      "82     To the People of the State of New York:  THE erection of a new government, whatever care or wisd\n",
      "83     To the People of the State of New York:  THE objection to the plan of the convention, which has \n",
      "84     To the People of the State of New York:  IN THE course of the foregoing review of the Constituti\n",
      "85     To the People of the State of New York:  ACCORDING to the formal division of the subject of thes\n"
     ]
    }
   ],
   "source": [
    "# Check to make sure the correct text was obtained\n",
    "for idx,i in enumerate(df['text']):\n",
    "    print idx,i[:100]"
   ]
  },
  {
   "cell_type": "markdown",
   "metadata": {},
   "source": [
    "The consensus among scholars is that\n",
    "Jay wrote five: 2-5 and 64, Madison wrote fourteen:10, 14, 37-48, and Hamilton\n",
    "wrote most of the remainder (fifty-one). Three are thought to be joint (18-20),\n",
    "and the twelve (49-58, 62, 63) comprise the list whose disputed authorship is\n",
    "the source of interest."
   ]
  },
  {
   "cell_type": "code",
   "execution_count": 196,
   "metadata": {
    "collapsed": true
   },
   "outputs": [],
   "source": [
    "author = []\n",
    "for i in df['essay_no']:\n",
    "    if int(i) >= 2 and int(i) <= 5 or int(i) == 64:\n",
    "        author.append('Jay')\n",
    "    elif int(i) == 10 or int(i) == 14 or int(i) >=37 and int(i) <= 48:\n",
    "        author.append('Madison')\n",
    "    elif int(i) >= 18 and int(i) <=20:\n",
    "        author.append('Joint')\n",
    "    elif int(i) >= 49 and int(i) <= 58 or int(i) == 62 or int(i) ==63:\n",
    "        author.append('Disputed')\n",
    "    else:\n",
    "        author.append('Hamilton')"
   ]
  },
  {
   "cell_type": "code",
   "execution_count": 204,
   "metadata": {
    "collapsed": false
   },
   "outputs": [],
   "source": [
    "author = pd.DataFrame(author, index=range(1,87), columns=['author'])"
   ]
  },
  {
   "cell_type": "code",
   "execution_count": 206,
   "metadata": {
    "collapsed": false
   },
   "outputs": [],
   "source": [
    "df = pd.concat([df, author], axis=1)"
   ]
  },
  {
   "cell_type": "code",
   "execution_count": 207,
   "metadata": {
    "collapsed": false
   },
   "outputs": [
    {
     "data": {
      "text/plain": [
       "Hamilton    52\n",
       "Madison     14\n",
       "Disputed    12\n",
       "Jay          5\n",
       "Joint        3\n",
       "Name: author, dtype: int64"
      ]
     },
     "execution_count": 207,
     "metadata": {},
     "output_type": "execute_result"
    }
   ],
   "source": [
    "df['author'].value_counts()"
   ]
  },
  {
   "cell_type": "code",
   "execution_count": 208,
   "metadata": {
    "collapsed": false
   },
   "outputs": [
    {
     "data": {
      "text/html": [
       "<div>\n",
       "<table border=\"1\" class=\"dataframe\">\n",
       "  <thead>\n",
       "    <tr style=\"text-align: right;\">\n",
       "      <th></th>\n",
       "      <th>essay_no</th>\n",
       "      <th>text</th>\n",
       "      <th>author</th>\n",
       "    </tr>\n",
       "  </thead>\n",
       "  <tbody>\n",
       "    <tr>\n",
       "      <th>1</th>\n",
       "      <td>1</td>\n",
       "      <td>To the People of the State of New York:  A...</td>\n",
       "      <td>Hamilton</td>\n",
       "    </tr>\n",
       "    <tr>\n",
       "      <th>2</th>\n",
       "      <td>2</td>\n",
       "      <td>To the People of the State of New York: WHEN...</td>\n",
       "      <td>Jay</td>\n",
       "    </tr>\n",
       "    <tr>\n",
       "      <th>3</th>\n",
       "      <td>3</td>\n",
       "      <td>To the People of the State of New York:  I...</td>\n",
       "      <td>Jay</td>\n",
       "    </tr>\n",
       "    <tr>\n",
       "      <th>4</th>\n",
       "      <td>4</td>\n",
       "      <td>To the People of the State of New York:  MY ...</td>\n",
       "      <td>Jay</td>\n",
       "    </tr>\n",
       "    <tr>\n",
       "      <th>5</th>\n",
       "      <td>5</td>\n",
       "      <td>To the People of the State of New York:  QUE...</td>\n",
       "      <td>Jay</td>\n",
       "    </tr>\n",
       "  </tbody>\n",
       "</table>\n",
       "</div>"
      ],
      "text/plain": [
       "  essay_no                                               text    author\n",
       "1        1      To the People of the State of New York:  A...  Hamilton\n",
       "2        2    To the People of the State of New York: WHEN...       Jay\n",
       "3        3      To the People of the State of New York:  I...       Jay\n",
       "4        4    To the People of the State of New York:  MY ...       Jay\n",
       "5        5    To the People of the State of New York:  QUE...       Jay"
      ]
     },
     "execution_count": 208,
     "metadata": {},
     "output_type": "execute_result"
    }
   ],
   "source": [
    "df.head()"
   ]
  },
  {
   "cell_type": "code",
   "execution_count": null,
   "metadata": {
    "collapsed": true
   },
   "outputs": [],
   "source": []
  }
 ],
 "metadata": {
  "anaconda-cloud": {},
  "kernelspec": {
   "display_name": "Python [Root]",
   "language": "python",
   "name": "Python [Root]"
  },
  "language_info": {
   "codemirror_mode": {
    "name": "ipython",
    "version": 2
   },
   "file_extension": ".py",
   "mimetype": "text/x-python",
   "name": "python",
   "nbconvert_exporter": "python",
   "pygments_lexer": "ipython2",
   "version": "2.7.12"
  }
 },
 "nbformat": 4,
 "nbformat_minor": 0
}
